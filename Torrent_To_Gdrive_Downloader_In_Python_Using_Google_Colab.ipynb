{
  "nbformat": 4,
  "nbformat_minor": 0,
  "metadata": {
    "colab": {
      "provenance": []
    },
    "kernelspec": {
      "name": "python3",
      "display_name": "Python 3"
    },
    "language_info": {
      "name": "python"
    }
  },
  "cells": [
    {
      "cell_type": "markdown",
      "source": [
        "# **Steps to download files into Gdrive**\n",
        "\n",
        "**1 : Install The Python  Libraries**\n",
        "\n",
        "**2 : Mount Your Google Drive Where You Want To Store The Data**\n",
        "\n",
        "**3 : Start the Server**\n",
        "\n",
        "### **Following steps for Google Drive Upload (Personal Drive)**\n",
        "\n",
        "**4 : Upload .torrent File Or Paste Magnet Link [for GDrive]** \n",
        "\n",
        "**Note :- You can upload multiple files simultaneously**\n",
        "\n",
        "**4 : Upload .torrent File Or Paste Magnet Link [for Team Drive]**\n",
        "\n",
        "**5 : Start Cloud Upload**"
      ],
      "metadata": {
        "id": "D5AKklFwggv5"
      }
    },
    {
      "cell_type": "code",
      "source": [
        "#@title # **1 : Install The Python  Libraries**\n",
        "#@markdown <h3>⬅️ Click Here to Start Installing the Libraries</h3>\n",
        "# Hiding the warnings\n",
        "import warnings\n",
        "warnings.filterwarnings(\"ignore\")\n",
        "\n",
        "# Installing the libraries\n",
        "!pip install qiskit ipywidgets\n",
        "!python -m pip install --upgrade pip setuptools wheel\n",
        "!python -m pip install lbry-libtorrent\n",
        "!pip install folium==0.2.1"
      ],
      "metadata": {
        "cellView": "form",
        "id": "EjTWVEBgi_tV"
      },
      "execution_count": null,
      "outputs": []
    },
    {
      "cell_type": "code",
      "source": [
        "#@title **2 : Mount Your Google Drive Where You Want To Store The Data**\n",
        "#@markdown <h3>⬅️ Click Here to Start Mounting the drive</h3>\n",
        "#@markdown <br><center><img src='https://upload.wikimedia.org/wikipedia/commons/thumb/d/da/Google_Drive_logo.png/600px-Google_Drive_logo.png' height=\"50\" alt=\"Gdrive logo\"/></center>\n",
        "#@markdown <center><h3>Mount Gdrive to /content/drive</h3></center><br>\n",
        "\n",
        "MODE = \"MOUNT\" #@param [\"MOUNT\", \"UNMOUNT\"]\n",
        "#Mount your Gdrive! \n",
        "\n",
        "from google.colab import drive\n",
        "\n",
        "drive.mount._DEBUG = False\n",
        "\n",
        "if MODE == \"MOUNT\":\n",
        "  drive.mount('/content/drive', force_remount=True)\n",
        "\n",
        "elif MODE == \"UNMOUNT\":\n",
        "  try:\n",
        "    drive.flush_and_unmount()\n",
        "    \n",
        "  except Exception as e:\n",
        "    print(\"Not able mount the Gdrive please run the cell again..!\")\n",
        "  \n",
        "  get_ipython().system_raw(\"rm -rf /root/.config/Google/DriveFS\")"
      ],
      "metadata": {
        "cellView": "form",
        "id": "fxwOihqfjQes"
      },
      "execution_count": null,
      "outputs": []
    },
    {
      "cell_type": "code",
      "source": [
        "#@title **3 : Start the Server**\n",
        "#@markdown <h3>⬅️ Click Here to START server</h3>\n",
        "\n",
        "!apt install python3-libtorrent\n",
        "\n",
        "import libtorrent as lt\n",
        "\n",
        "ses = lt.session()\n",
        "ses.listen_on(6881, 6891)\n",
        "downloads = []\n",
        "\n",
        "from IPython.display import HTML, clear_output\n",
        "\n",
        "clear_output()\n",
        "\n",
        "print(\"Server Started Successfully\")"
      ],
      "metadata": {
        "cellView": "form",
        "id": "nXTpbI4-kbI6"
      },
      "execution_count": null,
      "outputs": []
    },
    {
      "cell_type": "markdown",
      "source": [
        "# **Following steps for Google Drive Upload (Personal Drive)**\n",
        "<br><center><img src='https://drive.google.com/uc?id=1iqeDl-Jdv6FyeswW4Jt7bDN-e6VdHMb2' height=\"100\" /></center> \n"
      ],
      "metadata": {
        "id": "F9dy9_tfmcXt"
      }
    },
    {
      "cell_type": "markdown",
      "source": [
        "#**4 : Upload .torrent File Or Paste Magnet Link [for GDrive]** "
      ],
      "metadata": {
        "id": "THAqHUDvoYLs"
      }
    },
    {
      "cell_type": "code",
      "source": [
        "#@title **4 : Upload .torrent File [for GDrive]** \n",
        "#@markdown <h3>⬅️ Click Here to </h3>\n",
        "#@markdown <h3>Upload torrent file</h3>\n",
        "#@markdown <h5>You can run this cell to add more files as many times as you want</h5>\n",
        "#@markdown <h5>No parallel downloading using .torrent files, use magnet for that</h5><br>\n",
        "\n",
        "\n",
        "from google.colab import files\n",
        "\n",
        "source = files.upload()\n",
        "params = {\n",
        "    \"save_path\": \"/content/drive/My Drive/Torrent\",\n",
        "    \"ti\": lt.torrent_info(list(source.keys())[0]),\n",
        "}\n",
        "downloads.append(ses.add_torrent(params))"
      ],
      "metadata": {
        "cellView": "form",
        "id": "rPwLMgrPmM2W"
      },
      "execution_count": null,
      "outputs": []
    },
    {
      "cell_type": "code",
      "source": [
        "#@title **4 : Paste Magnet Link [for GDrive]** \n",
        "#@markdown <h3>⬅️ Click Here to </h3>\n",
        "#@markdown <h3>Add From Magnet Link</h3>\n",
        "#@markdown <h5>You can run this cell to add more files as many times as you want</h5><br>\n",
        "\n",
        "\n",
        "params = {\"save_path\": \"/content/drive/My Drive/Torrent\"}\n",
        "\n",
        "while True:\n",
        "    magnet_link = input(\"Enter Magnet Link Or Type Exit: \")\n",
        "    if magnet_link.lower() == \"exit\":\n",
        "        break\n",
        "    downloads.append(\n",
        "        lt.add_magnet_uri(ses, magnet_link, params)\n",
        "    )\n"
      ],
      "metadata": {
        "cellView": "form",
        "id": "1Rhd1kOsmarx"
      },
      "execution_count": null,
      "outputs": []
    },
    {
      "cell_type": "markdown",
      "source": [
        "# **Following steps for Team Drive Upload (Shared Drive)**\n",
        "<br><center><img src='https://drive.google.com/uc?id=1AC4hpO-pE2FyHzTQBrwq27kGbZDOeVuO' height=\"100\" /></center> "
      ],
      "metadata": {
        "id": "NKju-Nj7oypn"
      }
    },
    {
      "cell_type": "markdown",
      "source": [
        "# **4 : Upload .torrent File Or Paste Magnet Link [for Team Drive]**\n",
        "\n",
        "# **Provide a specific path / Location where you want to download the file**"
      ],
      "metadata": {
        "id": "FM1sqw4CpETu"
      }
    },
    {
      "cell_type": "code",
      "source": [
        "#@title **4 : Upload .torrent File [for Team Drive]**\n",
        "#@markdown <h3>⬅️ Click Here to </h3>\n",
        "#@markdown <h3>Upload torrent file</h3>\n",
        "#@markdown <h5>You can run this cell to add more files as many times as you want</h5>\n",
        "#@markdown <h5>Doesn't support parallel downloding, use magnet method for that</h5><br>\n",
        "\n",
        "#@markdown <h3>Enter the path where you want to download the file :</h3>\n",
        "path = \"/content/drive/Shareddrives/Aman\" #@param {type:\"string\"}\n",
        "check=[]\n",
        "\n",
        "\n",
        "from google.colab import files\n",
        "\n",
        "source = files.upload()\n",
        "params = {\n",
        "    \"save_path\": path,\n",
        "    \"ti\": lt.torrent_info(list(source.keys())[0]),\n",
        "}\n",
        "downloads.append(ses.add_torrent(params))\n",
        "\n",
        "clear_output()\n",
        "\n",
        "print(\"Started Successfully\")"
      ],
      "metadata": {
        "cellView": "form",
        "id": "mnosEV91ozT4"
      },
      "execution_count": null,
      "outputs": []
    },
    {
      "cell_type": "code",
      "source": [
        "#@title **4 : Paste Magnet Link [for Team Drive]**\n",
        "#@markdown <h3>⬅️ Click Here to </h3>\n",
        "#@markdown <h3>Add From Magnet Link</h3>\n",
        "#@markdown <h5>You can run this cell to add more files as many times as you want</h5><br>\n",
        "\n",
        "#@markdown <h3>Enter the path where you want to download the file :</h3>\n",
        "path = \"/content/drive/Shared drives/Aman\" #@param {type:\"string\"}\n",
        "check=[]\n",
        "params = {\"save_path\": path}\n",
        "\n",
        "while True:\n",
        "    magnet_link = input(\"Enter Magnet Link Or Type Exit: \")\n",
        "    if magnet_link.lower() == \"exit\":\n",
        "        break\n",
        "    downloads.append(\n",
        "        lt.add_magnet_uri(ses, magnet_link, params)\n",
        "    )\n",
        "\n",
        "clear_output()\n",
        "\n",
        "print(\"Started Successfully\")   \n"
      ],
      "metadata": {
        "cellView": "form",
        "id": "DkCCULMRpsKJ"
      },
      "execution_count": null,
      "outputs": []
    },
    {
      "cell_type": "code",
      "source": [
        "#@title **5 : Start Cloud Upload**\n",
        "#@markdown <h3>⬅️ Click Here to Start Download</h3>\n",
        "import time\n",
        "from IPython.display import display\n",
        "import ipywidgets as widgets\n",
        "\n",
        "state_str = [\n",
        "    \"queued\",\n",
        "    \"checking\",\n",
        "    \"downloading metadata\",\n",
        "    \"downloading\",\n",
        "    \"finished\",\n",
        "    \"seeding\",\n",
        "    \"allocating\",\n",
        "    \"checking fastresume\",\n",
        "]\n",
        "\n",
        "layout = widgets.Layout(width=\"auto\")\n",
        "style = {\"description_width\": \"initial\"}\n",
        "download_bars = [\n",
        "    widgets.FloatSlider(\n",
        "        step=0.01, disabled=True, layout=layout, style=style\n",
        "    )\n",
        "    for _ in downloads\n",
        "]\n",
        "display(*download_bars)\n",
        "\n",
        "while downloads:\n",
        "    next_shift = 0\n",
        "    for index, download in enumerate(downloads[:]):\n",
        "        bar = download_bars[index + next_shift]\n",
        "        if not download.is_seed():\n",
        "            s = download.status()\n",
        "\n",
        "            bar.description = \" \".join(\n",
        "                [\n",
        "                    download.name(),\n",
        "                    str(s.download_rate / 1000),\n",
        "                    \"kB/s\",\n",
        "                    state_str[s.state],\n",
        "                ]\n",
        "            )\n",
        "            bar.value = s.progress * 100\n",
        "        else:\n",
        "            next_shift -= 1\n",
        "            ses.remove_torrent(download)\n",
        "            downloads.remove(download)\n",
        "            bar.close() # Seems to be not working in Colab (see https://github.com/googlecolab/colabtools/issues/726#issue-486731758)\n",
        "            download_bars.remove(bar)\n",
        "            print(download.name(), \"complete\")\n",
        "    time.sleep(1)\n"
      ],
      "metadata": {
        "cellView": "form",
        "id": "EtXerLLTqPV5"
      },
      "execution_count": null,
      "outputs": []
    }
  ]
}